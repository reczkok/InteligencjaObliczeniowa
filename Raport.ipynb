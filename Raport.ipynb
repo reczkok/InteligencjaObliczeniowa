{
 "cells": [
  {
   "cell_type": "markdown",
   "source": [],
   "metadata": {
    "collapsed": false
   }
  },
  {
   "cell_type": "markdown",
   "source": [
    "# Analiza modelu statystycznego gry NIM\n",
    "## Autorzy: Joanna Wójcicka, Konrad Reczko\n",
    "\n",
    "W Nim, gracze na przemian zabierają patyczki (lub inne obiekty, takie jak kamienie) z jednego z kilku stosów. W każdej turze gracz może wziąć dowolną liczbę patyczków większą niż zero, ale tylko z jednego stosu. Liczba stosów i patyczków na każdym z nich może się różnić w zależności od wariantu gry.\n",
    "\n",
    "Celem gry jest zmuszenie przeciwnika do wzięcia ostatniego patyczka. Istnieje wiele wariantów Nim, z różnymi regułami dotyczącymi tego, kto wygrywa przy wzięciu ostatniego patyczka. Nim jest interesujący ze względu na swoją matematyczną naturę i często jest analizowany w kontekście teorii gier. Jest to gra o pełnej informacji, co oznacza, że wszyscy gracze mają pełny dostęp do wszystkich informacji o stanie gry w każdym momencie. Nim ma również algorytm wygrywający, co oznacza, że gracz znający odpowiednią strategię może zawsze wygrać, zaczynając grę lub odpowiadając na ruch przeciwnika.\n",
    "\n",
    "## Model deterministyczny\n",
    "Jest to klasyczna wersja gry, w której itnieją cztery stosy po cztery patyczki oraz przegrywa gracz który zabierze ostatni patyczek. W tym przypadku stosunek wygranej gracza zaczynającego do przegranego wynosi 1:1. Warto zauważyć, że w przypadku gry z większą liczbą stosów, stosunek ten zmienia się na korzyść gracza zaczynającego.\n",
    "\n",
    "## Model niedeterministyczny\n",
    "W przypadku analizowanego modelu, istnieje 10% szansy, że gracz weźmie o jeden patyczek więcej, niż zamierzał. Dzięki temu przełamane jest założenie o pełnej informacji, co sprawia, że gra staje się niedeterministyczna.\n"
   ],
   "metadata": {
    "collapsed": false
   }
  },
  {
   "cell_type": "code",
   "execution_count": 3,
   "outputs": [],
   "source": [
    "import numpy as np\n",
    "import pandas as pd"
   ],
   "metadata": {
    "collapsed": false
   }
  },
  {
   "cell_type": "code",
   "execution_count": 13,
   "metadata": {
    "collapsed": true
   },
   "outputs": [
    {
     "data": {
      "text/plain": "       ai1_score;ai2_score;ai1_avg_time;ai2_avg_time\n0  54;46;0.0049611727132134594;0.0006509940636278402\n1   51;49;0.004867944218803025;0.0006392786818691811\n2    41;59;0.004979873475865423;0.000637978314241885\n3   50;50;0.004893322936212173;0.0006467313610868297\n4   57;43;0.005024151746394937;0.0006606149721627285",
      "text/html": "<div>\n<style scoped>\n    .dataframe tbody tr th:only-of-type {\n        vertical-align: middle;\n    }\n\n    .dataframe tbody tr th {\n        vertical-align: top;\n    }\n\n    .dataframe thead th {\n        text-align: right;\n    }\n</style>\n<table border=\"1\" class=\"dataframe\">\n  <thead>\n    <tr style=\"text-align: right;\">\n      <th></th>\n      <th>ai1_score;ai2_score;ai1_avg_time;ai2_avg_time</th>\n    </tr>\n  </thead>\n  <tbody>\n    <tr>\n      <th>0</th>\n      <td>54;46;0.0049611727132134594;0.0006509940636278402</td>\n    </tr>\n    <tr>\n      <th>1</th>\n      <td>51;49;0.004867944218803025;0.0006392786818691811</td>\n    </tr>\n    <tr>\n      <th>2</th>\n      <td>41;59;0.004979873475865423;0.000637978314241885</td>\n    </tr>\n    <tr>\n      <th>3</th>\n      <td>50;50;0.004893322936212173;0.0006467313610868297</td>\n    </tr>\n    <tr>\n      <th>4</th>\n      <td>57;43;0.005024151746394937;0.0006606149721627285</td>\n    </tr>\n  </tbody>\n</table>\n</div>"
     },
     "execution_count": 13,
     "metadata": {},
     "output_type": "execute_result"
    }
   ],
   "source": [
    "depth3 = pd.read_csv(\"data_depth3.csv\")\n",
    "\n",
    "depth3.head()"
   ]
  },
  {
   "cell_type": "code",
   "execution_count": null,
   "outputs": [],
   "source": [],
   "metadata": {
    "collapsed": false
   }
  }
 ],
 "metadata": {
  "kernelspec": {
   "display_name": "Python 3",
   "language": "python",
   "name": "python3"
  },
  "language_info": {
   "codemirror_mode": {
    "name": "ipython",
    "version": 2
   },
   "file_extension": ".py",
   "mimetype": "text/x-python",
   "name": "python",
   "nbconvert_exporter": "python",
   "pygments_lexer": "ipython2",
   "version": "2.7.6"
  }
 },
 "nbformat": 4,
 "nbformat_minor": 0
}
